{
  "cells": [
    {
      "cell_type": "markdown",
      "metadata": {
        "id": "Nan_je3U1IWk"
      },
      "source": [
        "# **Загрузка данных и Import библиотек**"
      ]
    },
    {
      "cell_type": "code",
      "execution_count": 1,
      "metadata": {
        "colab": {
          "base_uri": "https://localhost:8080/"
        },
        "id": "07PMQ-G40p_Q",
        "outputId": "9ffee7ae-3dd9-4d97-d091-9ad2e1a6bde9"
      },
      "outputs": [
        {
          "output_type": "stream",
          "name": "stdout",
          "text": [
            "Cloning into 'yolov5'...\n",
            "remote: Enumerating objects: 16057, done.\u001b[K\n",
            "remote: Total 16057 (delta 0), reused 0 (delta 0), pack-reused 16057\u001b[K\n",
            "Receiving objects: 100% (16057/16057), 14.68 MiB | 16.68 MiB/s, done.\n",
            "Resolving deltas: 100% (11032/11032), done.\n",
            "/content/yolov5\n",
            "\u001b[2K     \u001b[90m━━━━━━━━━━━━━━━━━━━━━━━━━━━━━━━━━━━━━━━━\u001b[0m \u001b[32m190.6/190.6 kB\u001b[0m \u001b[31m2.8 MB/s\u001b[0m eta \u001b[36m0:00:00\u001b[0m\n",
            "\u001b[2K     \u001b[90m━━━━━━━━━━━━━━━━━━━━━━━━━━━━━━━━━━━━━━━━\u001b[0m \u001b[32m3.6/3.6 MB\u001b[0m \u001b[31m10.0 MB/s\u001b[0m eta \u001b[36m0:00:00\u001b[0m\n",
            "\u001b[2K     \u001b[90m━━━━━━━━━━━━━━━━━━━━━━━━━━━━━━━━━━━━━━━━\u001b[0m \u001b[32m645.3/645.3 kB\u001b[0m \u001b[31m16.3 MB/s\u001b[0m eta \u001b[36m0:00:00\u001b[0m\n",
            "\u001b[2K     \u001b[90m━━━━━━━━━━━━━━━━━━━━━━━━━━━━━━━━━━━━━━━━\u001b[0m \u001b[32m62.7/62.7 kB\u001b[0m \u001b[31m3.1 MB/s\u001b[0m eta \u001b[36m0:00:00\u001b[0m\n",
            "\u001b[?25h\u001b[31mERROR: pip's dependency resolver does not currently take into account all the packages that are installed. This behaviour is the source of the following dependency conflicts.\n",
            "imageio 2.31.6 requires pillow<10.1.0,>=8.3.2, but you have pillow 10.1.0 which is incompatible.\u001b[0m\u001b[31m\n",
            "\u001b[0m"
          ]
        }
      ],
      "source": [
        "!git clone https://github.com/ultralytics/yolov5\n",
        "%cd yolov5\n",
        "%pip install -qr requirements.txt"
      ]
    },
    {
      "cell_type": "code",
      "source": [
        "from google.colab import drive\n",
        "drive.mount('/content/drive')"
      ],
      "metadata": {
        "colab": {
          "base_uri": "https://localhost:8080/"
        },
        "id": "E3IEo9fLtkSe",
        "outputId": "5ae82683-6b6e-446c-9018-cdd685de00d8"
      },
      "execution_count": 8,
      "outputs": [
        {
          "output_type": "stream",
          "name": "stdout",
          "text": [
            "Mounted at /content/drive\n"
          ]
        }
      ]
    },
    {
      "cell_type": "code",
      "execution_count": 5,
      "metadata": {
        "colab": {
          "base_uri": "https://localhost:8080/"
        },
        "id": "9PcoxSXG1FCe",
        "outputId": "37522d6e-c655-4ba6-ec2f-2f22b67a1d21"
      },
      "outputs": [
        {
          "output_type": "stream",
          "name": "stdout",
          "text": [
            "Cloning into 'TC-Satellite-DataSet'...\n",
            "remote: Enumerating objects: 26872, done.\u001b[K\n",
            "remote: Counting objects: 100% (17389/17389), done.\u001b[K\n",
            "remote: Compressing objects: 100% (8392/8392), done.\u001b[K\n",
            "remote: Total 26872 (delta 7), reused 17373 (delta 2), pack-reused 9483\u001b[K\n",
            "Receiving objects: 100% (26872/26872), 8.02 GiB | 16.12 MiB/s, done.\n",
            "Resolving deltas: 100% (10/10), done.\n",
            "Updating files: 100% (27134/27134), done.\n"
          ]
        }
      ],
      "source": [
        "!git clone https://github.com/academy21/TC-Satellite-DataSet/"
      ]
    },
    {
      "cell_type": "code",
      "execution_count": 10,
      "metadata": {
        "colab": {
          "base_uri": "https://localhost:8080/"
        },
        "id": "mPyZSQmc1Hu5",
        "outputId": "6544410f-c4cd-4b12-9936-43a2c71a85d5"
      },
      "outputs": [
        {
          "output_type": "stream",
          "name": "stderr",
          "text": [
            "YOLOv5 🚀 v7.0-240-g84ec8b5 Python-3.10.12 torch-2.1.0+cu118 CPU\n"
          ]
        },
        {
          "output_type": "stream",
          "name": "stdout",
          "text": [
            "Setup complete ✅ (2 CPUs, 12.7 GB RAM, 26.8/107.7 GB disk)\n"
          ]
        }
      ],
      "source": [
        "from glob import glob\n",
        "import shutil\n",
        "import torch\n",
        "import utils\n",
        "import cv2\n",
        "from sklearn.metrics import mean_squared_error as mse\n",
        "from PIL import Image\n",
        "import random\n",
        "from matplotlib import pyplot as plt\n",
        "from mpl_toolkits.axes_grid1 import ImageGrid\n",
        "import numpy as np\n",
        "display = utils.notebook_init()"
      ]
    },
    {
      "cell_type": "code",
      "source": [
        "#!rm -rf /content/drive/MyDrive/AI_Sirius_project_Cyclon_detection/train"
      ],
      "metadata": {
        "id": "pidRhXFiQUK8"
      },
      "execution_count": 28,
      "outputs": []
    },
    {
      "cell_type": "code",
      "source": [
        "#!rm -rf /content/drive/MyDrive/AI_Sirius_project_Cyclon_detection/valid"
      ],
      "metadata": {
        "id": "Mu3_Bc94QY6a"
      },
      "execution_count": 29,
      "outputs": []
    },
    {
      "cell_type": "markdown",
      "metadata": {
        "id": "wntX15uy1ctA"
      },
      "source": [
        "# **Data Processing**"
      ]
    },
    {
      "cell_type": "code",
      "execution_count": 7,
      "metadata": {
        "id": "GUYNOX3d6VuW"
      },
      "outputs": [],
      "source": [
        "img = cv2.imread('/content/yolov5/TC-Satellite-DataSet/TC_by_Classes_jpg_1/mt201704240800_ir1_pro.jpg')"
      ]
    },
    {
      "cell_type": "code",
      "execution_count": 8,
      "metadata": {
        "id": "N08PHc-K1tE0"
      },
      "outputs": [],
      "source": [
        "img_width = img.shape[0]\n",
        "img_hight = img.shape[1]"
      ]
    },
    {
      "cell_type": "code",
      "source": [
        "transform = {\n",
        "    'Class_1' : 0,\n",
        "    'Class_2' : 1,\n",
        "    'Class_3' : 2,\n",
        "    'Class_4' : 3,\n",
        "    'Class_5' : 4,\n",
        "    'Class_6' : 5,\n",
        "    'Class_7' : 6,\n",
        "}"
      ],
      "metadata": {
        "id": "w3hHL_AqwDo9"
      },
      "execution_count": 9,
      "outputs": []
    },
    {
      "cell_type": "code",
      "execution_count": 10,
      "metadata": {
        "id": "cXEi3V5H1aZH"
      },
      "outputs": [],
      "source": [
        "def transform_label_to_yolov_type(path):\n",
        "  file = open(path, 'r')\n",
        "  a = [i.split(',') for i in file.readlines()]\n",
        "  file = open(path, 'w')\n",
        "  for line in a:\n",
        "    Class, x, y, w, h = line\n",
        "    x, y, w, h = map(int, [x, y, w, h])\n",
        "    l_x = (x - w / 2) / img_width #  координаты левого верхнего угла\n",
        "    l_y = (y + h / 2) / img_hight\n",
        "    r_x = (x + w / 2) / img_width # координаты правого нижнего угла\n",
        "    r_y = (y - h / 2) / img_hight\n",
        "    file.write(f'{transform[Class]} {l_x} {l_y} {r_x} {r_y}' + '\\n')\n",
        "def transform_data_to_yolov_type(txt_directory):\n",
        "  pathes = glob(txt_directory + '/*')\n",
        "  for path in pathes:\n",
        "    transform_label_to_yolov_type(path)"
      ]
    },
    {
      "cell_type": "code",
      "execution_count": 11,
      "metadata": {
        "id": "Fu3tVAgM1kgf"
      },
      "outputs": [],
      "source": [
        "transform_data_to_yolov_type('/content/yolov5/TC-Satellite-DataSet/TC_by_Classes_txt_1')\n",
        "transform_data_to_yolov_type('/content/yolov5/TC-Satellite-DataSet/TC_by_Classes_txt_2')"
      ]
    },
    {
      "cell_type": "code",
      "source": [
        "!mkdir '/content/yolov5/labels/'\n",
        "!mkdir '/content/yolov5/images/'"
      ],
      "metadata": {
        "id": "FVKYSRLgSsFk"
      },
      "execution_count": null,
      "outputs": []
    },
    {
      "cell_type": "code",
      "execution_count": 13,
      "metadata": {
        "id": "lnN1B7c36paz"
      },
      "outputs": [],
      "source": [
        "pathes = glob('/content/yolov5/TC-Satellite-DataSet/TC_by_Classes_txt_2/*') + glob('/content/yolov5/TC-Satellite-DataSet/TC_by_Classes_txt_1/*')\n",
        "for path in pathes:\n",
        "  path_to_folder = '/content/yolov5/labels/'\n",
        "  path_to_file = path\n",
        "  shutil.copy(path_to_file, path_to_folder)"
      ]
    },
    {
      "cell_type": "code",
      "execution_count": 14,
      "metadata": {
        "id": "pqA35vR97bk6"
      },
      "outputs": [],
      "source": [
        "pathes = []\n",
        "for i in range(1, 5 + 1):\n",
        "    pathes += glob(f'/content/yolov5/TC-Satellite-DataSet/TC_by_Classes_jpg_{i}/*')\n",
        "for path in pathes:\n",
        "  path_to_folder = '/content/yolov5/images/'\n",
        "  path_to_file = path\n",
        "  shutil.copy(path_to_file, path_to_folder)"
      ]
    },
    {
      "cell_type": "code",
      "execution_count": 12,
      "metadata": {
        "colab": {
          "base_uri": "https://localhost:8080/"
        },
        "id": "MuaE25Au84gA",
        "outputId": "d197b356-7ef8-406d-e555-a218f548b66a"
      },
      "outputs": [
        {
          "output_type": "execute_result",
          "data": {
            "text/plain": [
              "3000"
            ]
          },
          "metadata": {},
          "execution_count": 12
        }
      ],
      "source": [
        "len(glob('/content/drive/MyDrive/AI_Sirius_project_Cyclon_detection/train/images/*'))"
      ]
    },
    {
      "cell_type": "code",
      "execution_count": 17,
      "metadata": {
        "id": "IIXQWjNq-H_m"
      },
      "outputs": [],
      "source": [
        "import os\n",
        "pathes = glob('/content/yolov5/images/*')\n",
        "for path in pathes:\n",
        "  os.rename(path, path[:-8]+'.jpg')"
      ]
    },
    {
      "cell_type": "code",
      "execution_count": 4,
      "metadata": {
        "id": "8V_H7L9P-yPi"
      },
      "outputs": [],
      "source": [
        "import random"
      ]
    },
    {
      "cell_type": "code",
      "execution_count": 30,
      "metadata": {
        "id": "iDhAtbBL9ifQ"
      },
      "outputs": [],
      "source": [
        "pathes = glob('/content/yolov5/labels/*')\n",
        "random.shuffle(pathes)\n",
        "n = len(pathes)\n",
        "train_pathes = pathes[:5000]\n",
        "valid_pathes = pathes[7000:8000]"
      ]
    },
    {
      "cell_type": "code",
      "execution_count": 31,
      "metadata": {
        "colab": {
          "base_uri": "https://localhost:8080/",
          "height": 36
        },
        "id": "Vsv5J9Jv_8Il",
        "outputId": "e30c2fe9-f1a3-471c-8b1a-d4784014dd52"
      },
      "outputs": [
        {
          "output_type": "execute_result",
          "data": {
            "text/plain": [
              "'/content/yolov5/labels/mt201803302000_ir1.txt'"
            ],
            "application/vnd.google.colaboratory.intrinsic+json": {
              "type": "string"
            }
          },
          "metadata": {},
          "execution_count": 31
        }
      ],
      "source": [
        "train_pathes[0]"
      ]
    },
    {
      "cell_type": "code",
      "execution_count": null,
      "metadata": {
        "id": "10c1lGu2K0TQ"
      },
      "outputs": [],
      "source": [
        "# !rm -rf /content/drive/MyDrive/AI_Cyclon_detection_Sirius/train"
      ]
    },
    {
      "cell_type": "code",
      "source": [
        "# !rm -rf /content/drive/MyDrive/AI_Cyclon_detection_Sirius/valid"
      ],
      "metadata": {
        "id": "zLW1r1Eclgre"
      },
      "execution_count": null,
      "outputs": []
    },
    {
      "cell_type": "markdown",
      "metadata": {
        "id": "Qqmr_tdOBpVG"
      },
      "source": [
        "## **Moving Data to Drive**"
      ]
    },
    {
      "cell_type": "code",
      "execution_count": 32,
      "metadata": {
        "id": "PQ3icoLm91UP"
      },
      "outputs": [],
      "source": [
        "my_train_path = '/content/drive/MyDrive/AI_Sirius_project_Cyclon_detection/train' # укажите путь к папке train на диске\n",
        "for path in train_pathes:\n",
        "    path_to_folder = f'{my_train_path}/labels/'\n",
        "    path_to_file = path\n",
        "    shutil.copy(path_to_file, path_to_folder)\n",
        "    path_to_folder = '/content/drive/MyDrive/AI_Sirius_project_Cyclon_detection/train/images/'\n",
        "    path_to_file = (path.replace('labels', 'images')).replace('txt', 'jpg')\n",
        "    shutil.copy(path_to_file, path_to_folder)"
      ]
    },
    {
      "cell_type": "code",
      "execution_count": 33,
      "metadata": {
        "id": "pz9LXAYzANfJ"
      },
      "outputs": [],
      "source": [
        "my_valid_path = '/content/drive/MyDrive/AI_Sirius_project_Cyclon_detection/valid' # укажите путь к папке valid на диске\n",
        "for path in valid_pathes:\n",
        "    path_to_folder = f'{my_valid_path}/labels/'\n",
        "    path_to_file = path\n",
        "    shutil.copy(path_to_file, path_to_folder)\n",
        "    path_to_folder = '/content/drive/MyDrive/AI_Sirius_project_Cyclon_detection/valid/images/'\n",
        "    path_to_file = (path.replace('labels', 'images')).replace('txt', 'jpg')\n",
        "    shutil.copy(path_to_file, path_to_folder)"
      ]
    },
    {
      "cell_type": "markdown",
      "metadata": {
        "id": "pGQKbsTTDsJ3"
      },
      "source": [
        "# **Train Yolov5**"
      ]
    },
    {
      "cell_type": "code",
      "execution_count": null,
      "metadata": {
        "id": "YZqOi9SABiiH"
      },
      "outputs": [],
      "source": [
        "!python train.py --img 640 --batch 64 --epochs 3 --data data.yaml --weights yolov5n.pt --hyp data/hyps/hyp.scratch-low.yaml"
      ]
    },
    {
      "cell_type": "code",
      "execution_count": null,
      "metadata": {
        "id": "BcTSNv_cG4zU"
      },
      "outputs": [],
      "source": []
    }
  ],
  "metadata": {
    "colab": {
      "provenance": []
    },
    "kernelspec": {
      "display_name": "Python 3",
      "name": "python3"
    },
    "language_info": {
      "name": "python"
    }
  },
  "nbformat": 4,
  "nbformat_minor": 0
}